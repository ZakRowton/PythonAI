{
  "cells": [
    {
      "cell_type": "markdown",
      "metadata": {
        "id": "view-in-github",
        "colab_type": "text"
      },
      "source": [
        "<a href=\"https://colab.research.google.com/github/ZakRowton/YoutubeAI_GPT-4o/blob/main/Fooocus-WebUI.ipynb\" target=\"_parent\"><img src=\"https://colab.research.google.com/assets/colab-badge.svg\" alt=\"Open In Colab\"/></a>"
      ]
    },
    {
      "cell_type": "code",
      "execution_count": 3,
      "metadata": {
        "colab": {
          "base_uri": "https://localhost:8080/"
        },
        "id": "VjYy0F2gZIPR",
        "outputId": "dfb553ef-7830-495a-a0e8-d93b3a1ff9c0"
      },
      "outputs": [
        {
          "output_type": "stream",
          "name": "stdout",
          "text": [
            "Requirement already satisfied: pygit2==1.12.2 in /usr/local/lib/python3.10/dist-packages (1.12.2)\n",
            "Requirement already satisfied: cffi>=1.9.1 in /usr/local/lib/python3.10/dist-packages (from pygit2==1.12.2) (1.16.0)\n",
            "Requirement already satisfied: pycparser in /usr/local/lib/python3.10/dist-packages (from cffi>=1.9.1->pygit2==1.12.2) (2.22)\n",
            "/content\n",
            "fatal: destination path 'Fooocus' already exists and is not an empty directory.\n",
            "/content/Fooocus\n",
            "Already up-to-date\n",
            "Update succeeded.\n",
            "[System ARGV] ['entry_with_update.py', '--share']\n",
            "Python 3.10.12 (main, Nov 20 2023, 15:14:05) [GCC 11.4.0]\n",
            "Fooocus version: 2.3.1\n",
            "[Cleanup] Attempting to delete content of temp dir /tmp/fooocus\n",
            "[Cleanup] Cleanup successful\n",
            "Traceback (most recent call last):\n",
            "  File \"/content/Fooocus/entry_with_update.py\", line 46, in <module>\n",
            "    from launch import *\n",
            "  File \"/content/Fooocus/launch.py\", line 136, in <module>\n",
            "    from webui import *\n",
            "  File \"/content/Fooocus/webui.py\", line 10, in <module>\n",
            "    import modules.async_worker as worker\n",
            "  File \"/content/Fooocus/modules/async_worker.py\", line 3, in <module>\n",
            "    from modules.patch import PatchSettings, patch_settings, patch_all\n",
            "  File \"/content/Fooocus/modules/patch.py\", line 5, in <module>\n",
            "    import ldm_patched.modules.model_base\n",
            "  File \"/content/Fooocus/ldm_patched/modules/model_base.py\", line 2, in <module>\n",
            "    from ldm_patched.ldm.modules.diffusionmodules.openaimodel import UNetModel, Timestep\n",
            "  File \"/content/Fooocus/ldm_patched/ldm/modules/diffusionmodules/openaimodel.py\", line 15, in <module>\n",
            "    from ..attention import SpatialTransformer, SpatialVideoTransformer, default\n",
            "  File \"/content/Fooocus/ldm_patched/ldm/modules/attention.py\", line 9, in <module>\n",
            "    from .sub_quadratic_attention import efficient_dot_product_attention\n",
            "  File \"/content/Fooocus/ldm_patched/ldm/modules/sub_quadratic_attention.py\", line 27, in <module>\n",
            "    from ldm_patched.modules import model_management\n",
            "  File \"/content/Fooocus/ldm_patched/modules/model_management.py\", line 121, in <module>\n",
            "    total_vram = get_total_memory(get_torch_device()) / (1024 * 1024)\n",
            "  File \"/content/Fooocus/ldm_patched/modules/model_management.py\", line 90, in get_torch_device\n",
            "    return torch.device(torch.cuda.current_device())\n",
            "  File \"/usr/local/lib/python3.10/dist-packages/torch/cuda/__init__.py\", line 778, in current_device\n",
            "    _lazy_init()\n",
            "  File \"/usr/local/lib/python3.10/dist-packages/torch/cuda/__init__.py\", line 293, in _lazy_init\n",
            "    torch._C._cuda_init()\n",
            "RuntimeError: Found no NVIDIA driver on your system. Please check that you have an NVIDIA GPU and installed a driver from http://www.nvidia.com/Download/index.aspx\n"
          ]
        }
      ],
      "source": [
        "!pip install pygit2==1.12.2\n",
        "%cd /content\n",
        "!git clone https://github.com/lllyasviel/Fooocus.git\n",
        "%cd /content/Fooocus\n",
        "!python entry_with_update.py --share"
      ]
    },
    {
      "cell_type": "markdown",
      "metadata": {
        "id": "HHtm80cS0djh"
      },
      "source": [
        "## Optional\n",
        "If you do not get public URL, try running the cell below and restart the upper cell."
      ]
    },
    {
      "cell_type": "code",
      "execution_count": 2,
      "metadata": {
        "id": "Phyc7laU0g5j",
        "outputId": "009453a3-9ff1-4f01-e9cd-e54da6166c83",
        "colab": {
          "base_uri": "https://localhost:8080/"
        }
      },
      "outputs": [
        {
          "output_type": "stream",
          "name": "stdout",
          "text": [
            "--2024-05-22 00:53:11--  https://cdn-media.huggingface.co/frpc-gradio-0.2/frpc_linux_amd64\n",
            "Resolving cdn-media.huggingface.co (cdn-media.huggingface.co)... 18.155.173.35, 18.155.173.50, 18.155.173.27, ...\n",
            "Connecting to cdn-media.huggingface.co (cdn-media.huggingface.co)|18.155.173.35|:443... connected.\n",
            "HTTP request sent, awaiting response... 200 OK\n",
            "Length: 11374592 (11M) [binary/octet-stream]\n",
            "Saving to: ‘/usr/local/lib/python3.10/dist-packages/gradio/frpc_linux_amd64_v0.2’\n",
            "\n",
            "/usr/local/lib/pyth 100%[===================>]  10.85M  --.-KB/s    in 0.1s    \n",
            "\n",
            "2024-05-22 00:53:12 (95.9 MB/s) - ‘/usr/local/lib/python3.10/dist-packages/gradio/frpc_linux_amd64_v0.2’ saved [11374592/11374592]\n",
            "\n"
          ]
        }
      ],
      "source": [
        "!wget https://cdn-media.huggingface.co/frpc-gradio-0.2/frpc_linux_amd64 -O /usr/local/lib/python3.10/dist-packages/gradio/frpc_linux_amd64_v0.2"
      ]
    }
  ],
  "metadata": {
    "accelerator": "GPU",
    "colab": {
      "provenance": [],
      "include_colab_link": true
    },
    "kernelspec": {
      "display_name": "Python 3",
      "name": "python3"
    },
    "language_info": {
      "name": "python"
    }
  },
  "nbformat": 4,
  "nbformat_minor": 0
}